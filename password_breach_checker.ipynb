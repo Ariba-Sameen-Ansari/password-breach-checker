{
 "cells": [
  {
   "cell_type": "code",
   "execution_count": 1,
   "id": "97ae86a5",
   "metadata": {},
   "outputs": [],
   "source": [
    "import hashlib\n",
    "import requests\n"
   ]
  },
  {
   "cell_type": "code",
   "execution_count": 2,
   "id": "4635075c",
   "metadata": {},
   "outputs": [],
   "source": [
    "def get_sha1_hash(password):\n",
    "    sha1 = hashlib.sha1(password.encode('utf-8')).hexdigest().upper()\n",
    "    return sha1\n"
   ]
  },
  {
   "cell_type": "code",
   "execution_count": 3,
   "id": "bb406abb",
   "metadata": {},
   "outputs": [],
   "source": [
    "def check_pwned_api(hash_prefix, hash_suffix):\n",
    "    url = f\"https://api.pwnedpasswords.com/range/{hash_prefix}\"\n",
    "    res = requests.get(url)\n",
    "    if res.status_code != 200:\n",
    "        raise RuntimeError(f\"Error fetching data: {res.status_code}\")\n",
    "    \n",
    "    hashes = (line.split(':') for line in res.text.splitlines())\n",
    "    for h, count in hashes:\n",
    "        if h == hash_suffix:\n",
    "            return count\n",
    "    return 0\n"
   ]
  },
  {
   "cell_type": "code",
   "execution_count": 4,
   "id": "8be5a43c",
   "metadata": {},
   "outputs": [],
   "source": [
    "def check_password_breach(password):\n",
    "    sha1 = get_sha1_hash(password)\n",
    "    prefix = sha1[:5]\n",
    "    suffix = sha1[5:]\n",
    "    count = check_pwned_api(prefix, suffix)\n",
    "    \n",
    "    if count:\n",
    "        print(f\"⚠️ Password found in {count} breaches! Choose a stronger one.\")\n",
    "    else:\n",
    "        print(\"✅ Password not found in known breaches.\")\n"
   ]
  },
  {
   "cell_type": "code",
   "execution_count": 5,
   "id": "937b5683",
   "metadata": {},
   "outputs": [
    {
     "name": "stdout",
     "output_type": "stream",
     "text": [
      "Enter a password to check: password123\n",
      "⚠️ Password found in 864904 breaches! Choose a stronger one.\n"
     ]
    }
   ],
   "source": [
    "password = input(\"Enter a password to check: \")\n",
    "check_password_breach(password)\n"
   ]
  },
  {
   "cell_type": "code",
   "execution_count": 6,
   "id": "822eb0ea",
   "metadata": {},
   "outputs": [
    {
     "name": "stdout",
     "output_type": "stream",
     "text": [
      "Enter a password to check: 123456\n",
      "⚠️ Password found in 130075037 breaches! Choose a stronger one.\n"
     ]
    }
   ],
   "source": [
    "password = input(\"Enter a password to check: \")\n",
    "check_password_breach(password)\n"
   ]
  },
  {
   "cell_type": "markdown",
   "id": "cdd31088",
   "metadata": {},
   "source": [
    "### ✅ Summary\n",
    "\n",
    "This tool checks whether a password has been involved in known data breaches using the HaveIBeenPwned API.\n",
    "\n",
    "- It uses **SHA-1 hashing** and the **k-anonymity model**\n",
    "- It returns how many times the password appeared in public breaches\n",
    "- You can test common or custom passwords to see if they're safe\n",
    "\n",
    "---\n",
    "\n",
    "### 🔐 Example Run:\n",
    "```\n",
    "Enter a password to check: password123\n",
    "⚠️ Password found in 864984 breaches! Choose a stronger one.\n",
    "```"
   ]
  },
  {
   "cell_type": "code",
   "execution_count": null,
   "id": "a2b514a1",
   "metadata": {},
   "outputs": [],
   "source": []
  }
 ],
 "metadata": {
  "kernelspec": {
   "display_name": "Python 3 (ipykernel)",
   "language": "python",
   "name": "python3"
  },
  "language_info": {
   "codemirror_mode": {
    "name": "ipython",
    "version": 3
   },
   "file_extension": ".py",
   "mimetype": "text/x-python",
   "name": "python",
   "nbconvert_exporter": "python",
   "pygments_lexer": "ipython3",
   "version": "3.11.5"
  }
 },
 "nbformat": 4,
 "nbformat_minor": 5
}
